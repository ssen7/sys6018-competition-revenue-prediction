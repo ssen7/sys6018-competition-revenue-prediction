{
 "cells": [
  {
   "cell_type": "code",
   "execution_count": 35,
   "metadata": {},
   "outputs": [],
   "source": [
    "import numpy as np\n",
    "import pandas as pd\n",
    "from sklearn import model_selection, preprocessing, metrics\n",
    "from sklearn.model_selection import train_test_split\n",
    "from sklearn.linear_model import LinearRegression\n",
    "import statsmodels.api as sm"
   ]
  },
  {
   "cell_type": "code",
   "execution_count": null,
   "metadata": {},
   "outputs": [],
   "source": [
    "train = pd.read_csv('cleaned_data/cleaned_train.csv', encoding='utf-8')\n",
    "test = pd.read_csv('cleaned_data/cleaned_test.csv', encoding='utf-8')"
   ]
  },
  {
   "cell_type": "code",
   "execution_count": 14,
   "metadata": {},
   "outputs": [],
   "source": [
    "cat_cols = [\"channelGrouping\", \"device.browser\", \n",
    "            \"device.deviceCategory\", \"device.operatingSystem\", \n",
    "            \"geoNetwork.city\", \"geoNetwork.continent\", \n",
    "            \"geoNetwork.country\", \"geoNetwork.metro\",\n",
    "            \"geoNetwork.networkDomain\", \"geoNetwork.region\", \n",
    "            \"geoNetwork.subContinent\", \"trafficSource.adContent\", \n",
    "            \"trafficSource.adwordsClickInfo.adNetworkType\", \n",
    "            \"trafficSource.adwordsClickInfo.gclId\", \n",
    "            \"trafficSource.adwordsClickInfo.page\", \n",
    "            \"trafficSource.adwordsClickInfo.slot\", \"trafficSource.campaign\",\n",
    "            \"trafficSource.keyword\", \"trafficSource.medium\", \n",
    "            \"trafficSource.referralPath\", \"trafficSource.source\",\n",
    "            'trafficSource.adwordsClickInfo.isVideoAd', 'trafficSource.isTrueDirect',\n",
    "            'Year', 'Month', 'Week', 'Day', 'Dayofweek',\n",
    "            'Dayofyear', 'Is_month_end', 'Is_month_start', 'Is_quarter_end',\n",
    "            'Is_quarter_start', 'Is_year_end', 'Is_year_start'\n",
    "           ]\n",
    "\n",
    "num_cols = [\"totals.hits\", \"totals.pageviews\", \"visitNumber\", \n",
    "            \"visitStartTime\", 'totals.bounces',  'totals.newVisits']"
   ]
  },
  {
   "cell_type": "code",
   "execution_count": 15,
   "metadata": {},
   "outputs": [],
   "source": [
    "def score_metric(y_pred, targ):\n",
    "    p = np.expm1(y_pred)\n",
    "    t = np.expm1(targ)\n",
    "    p[p < 0] = 0\n",
    "    return np.sqrt(metrics.mean_squared_error(np.log1p(t), np.log1p(p)))\n",
    "\n",
    "def val_err(model, X, y):\n",
    "    X_train, X_test, y_train, y_test = train_test_split(X, y, test_size=0.33, random_state=42)\n",
    "    model.fit(X_train, y_train)\n",
    "    true = y_test\n",
    "    preds = model.predict(X_test)\n",
    "#     print(preds)\n",
    "    score = score_metric(preds, true)\n",
    "    print(score)\n",
    "    return(score)"
   ]
  },
  {
   "cell_type": "code",
   "execution_count": 17,
   "metadata": {},
   "outputs": [],
   "source": [
    "y_rf = np.log(train['totals.transactionRevenue'])\n",
    "y_rf[y_rf < 0] = 0\n",
    "\n",
    "cols = ['Month', 'visitStartTime', 'Dayofyear', 'Week', 'totals.hits']\n",
    "\n",
    "X = train[cols]"
   ]
  },
  {
   "cell_type": "code",
   "execution_count": 23,
   "metadata": {},
   "outputs": [],
   "source": [
    "X_train, X_test, y_train, y_test = train_test_split(X, y_rf, test_size=0.30, random_state=4200)"
   ]
  },
  {
   "cell_type": "code",
   "execution_count": 25,
   "metadata": {},
   "outputs": [
    {
     "data": {
      "text/plain": [
       "LinearRegression(copy_X=True, fit_intercept=True, n_jobs=1, normalize=False)"
      ]
     },
     "execution_count": 25,
     "metadata": {},
     "output_type": "execute_result"
    }
   ],
   "source": [
    "linreg = LinearRegression()\n",
    "\n",
    "linreg.fit(X_train, y_train)"
   ]
  },
  {
   "cell_type": "code",
   "execution_count": 26,
   "metadata": {},
   "outputs": [],
   "source": [
    "y_pred = linreg.predict(X_test)"
   ]
  },
  {
   "cell_type": "code",
   "execution_count": 32,
   "metadata": {},
   "outputs": [
    {
     "data": {
      "text/plain": [
       "array([-3.65830850e-03,  5.11328913e-09,  8.37453020e-06,  3.03756381e-04,\n",
       "        7.86650359e-02])"
      ]
     },
     "execution_count": 32,
     "metadata": {},
     "output_type": "execute_result"
    }
   ],
   "source": [
    "linreg.coef_"
   ]
  },
  {
   "cell_type": "code",
   "execution_count": 33,
   "metadata": {},
   "outputs": [
    {
     "data": {
      "text/plain": [
       "-7.71886696943933"
      ]
     },
     "execution_count": 33,
     "metadata": {},
     "output_type": "execute_result"
    }
   ],
   "source": [
    "linreg.intercept_"
   ]
  },
  {
   "cell_type": "code",
   "execution_count": 37,
   "metadata": {},
   "outputs": [
    {
     "name": "stdout",
     "output_type": "stream",
     "text": [
      "                                OLS Regression Results                               \n",
      "=====================================================================================\n",
      "Dep. Variable:     totals.transactionRevenue   R-squared:                       0.144\n",
      "Model:                                   OLS   Adj. R-squared:                  0.144\n",
      "Method:                        Least Squares   F-statistic:                 2.669e+04\n",
      "Date:                       Sat, 10 Nov 2018   Prob (F-statistic):               0.00\n",
      "Time:                               13:59:48   Log-Likelihood:            -1.2878e+06\n",
      "No. Observations:                     632557   AIC:                         2.576e+06\n",
      "Df Residuals:                         632552   BIC:                         2.576e+06\n",
      "Df Model:                                  4                                         \n",
      "Covariance Type:                   nonrobust                                         \n",
      "==================================================================================\n",
      "                     coef    std err          t      P>|t|      [0.025      0.975]\n",
      "----------------------------------------------------------------------------------\n",
      "Month             -0.0046      0.001     -6.168      0.000      -0.006      -0.003\n",
      "visitStartTime  -4.39e-11   5.79e-12     -7.584      0.000   -5.52e-11   -3.26e-11\n",
      "Dayofyear      -7.809e-05   2.66e-05     -2.938      0.003      -0.000    -2.6e-05\n",
      "Week              -0.0011      0.000     -6.309      0.000      -0.001      -0.001\n",
      "totals.hits        0.0785      0.000    326.499      0.000       0.078       0.079\n",
      "==============================================================================\n",
      "Omnibus:                   780837.331   Durbin-Watson:                   1.998\n",
      "Prob(Omnibus):                  0.000   Jarque-Bera (JB):        110580514.666\n",
      "Skew:                           6.820   Prob(JB):                         0.00\n",
      "Kurtosis:                      66.321   Cond. No.                     4.77e+08\n",
      "==============================================================================\n",
      "\n",
      "Warnings:\n",
      "[1] Standard Errors assume that the covariance matrix of the errors is correctly specified.\n",
      "[2] The condition number is large, 4.77e+08. This might indicate that there are\n",
      "strong multicollinearity or other numerical problems.\n"
     ]
    }
   ],
   "source": [
    "mod = sm.OLS(y_train, X_train)\n",
    "results = mod.fit()\n",
    "print(results.summary())"
   ]
  }
 ],
 "metadata": {
  "kernelspec": {
   "display_name": "Python 3",
   "language": "python",
   "name": "python3"
  },
  "language_info": {
   "codemirror_mode": {
    "name": "ipython",
    "version": 3
   },
   "file_extension": ".py",
   "mimetype": "text/x-python",
   "name": "python",
   "nbconvert_exporter": "python",
   "pygments_lexer": "ipython3",
   "version": "3.6.6"
  }
 },
 "nbformat": 4,
 "nbformat_minor": 2
}
